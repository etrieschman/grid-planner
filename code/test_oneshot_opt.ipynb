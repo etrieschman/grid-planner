{
 "cells": [
  {
   "cell_type": "code",
   "execution_count": 1,
   "id": "91a3cdaf-d3ec-421f-9d8f-6f8251cbeb85",
   "metadata": {},
   "outputs": [],
   "source": [
    "import numpy as np\n",
    "import pandas as pd\n",
    "import cvxpy as cp\n",
    "import matplotlib.pyplot as plt\n",
    "\n",
    "from utils_opt import *\n",
    "\n",
    "%load_ext autoreload\n",
    "%autoreload 2"
   ]
  },
  {
   "cell_type": "markdown",
   "id": "8ad5cef1-5409-454b-abdd-b1257daab634",
   "metadata": {},
   "source": [
    "# Test one shot sampling techniques"
   ]
  },
  {
   "cell_type": "markdown",
   "id": "39af35ba-c7a8-4925-9a55-ceb01d39a66b",
   "metadata": {},
   "source": [
    "## Options\n",
    "* Relaxed experiment design (lambda_i = m_i / m)\n",
    "* Scalarization: \n",
    "    * D-optimal: (most widely used), minimize log-determinant (min volume)\n",
    "    * E-optimal: minimize norm (min diameter) \n",
    "    * A-optimal: minimize the trace    \n",
    "\n",
    "**Decision:** Going with D-optimal design, most common, easiest to write as DCP form"
   ]
  },
  {
   "cell_type": "code",
   "execution_count": 2,
   "id": "377fbc02-f6e4-47f7-abc2-3bdbd44ef382",
   "metadata": {},
   "outputs": [],
   "source": [
    "# make fake data\n",
    "n, d = 400, 15\n",
    "Sigma = np.random.normal(size=(d, d))\n",
    "Sigma = Sigma.T @ Sigma\n",
    "mu = np.random.normal(size=d)\n",
    "# assume moving average system\n",
    "X = np.random.multivariate_normal(mean=mu, cov=Sigma, size=n)"
   ]
  },
  {
   "cell_type": "code",
   "execution_count": 3,
   "id": "dbab3424-6acc-4bdc-9355-6b0beda53b27",
   "metadata": {},
   "outputs": [],
   "source": [
    "# scale and discretize\n",
    "strategies = ['uniform', 'quantile', 'kmeans']\n",
    "Xt, __, __ = scale_and_discretize(X, strategies[0], 10)"
   ]
  },
  {
   "cell_type": "code",
   "execution_count": 4,
   "id": "5357c89f-3aab-43c0-b741-793239536016",
   "metadata": {},
   "outputs": [
    {
     "name": "stdout",
     "output_type": "stream",
     "text": [
      "===== Summary =====\n",
      "status: optimal\n",
      "value: -66.53851132725828\n",
      "time: 86.05230402946472\n",
      "time_comp: 0.039314985275268555\n",
      "time_solve: 86.01298904418945\n",
      "selected experiments (>=0.6): 18\n"
     ]
    }
   ],
   "source": [
    "# optimal experiment design\n",
    "V, l, stats = doptimal(Xt, 25)\n",
    "\n",
    "print('===== Summary =====')\n",
    "for k, i in stats.items():\n",
    "    print(f'{k}:', i)\n",
    "cutoff = 0.6\n",
    "print(f'selected experiments (>={cutoff}):',  np.sum((l >= cutoff)*1))"
   ]
  },
  {
   "cell_type": "code",
   "execution_count": 6,
   "id": "bcd4f94f-c1b0-431d-be56-a6b99f1aa35d",
   "metadata": {},
   "outputs": [
    {
     "name": "stdout",
     "output_type": "stream",
     "text": [
      "===== X indices =====\n",
      "[308  59  50 182  20 117 283  44 394 253 135 315  11 379 297 217 367 147]\n"
     ]
    }
   ],
   "source": [
    "# get X indices\n",
    "idxs = get_indices(Xt, V, l, 0.6)\n",
    "\n",
    "print('===== X indices =====')\n",
    "print(idxs)"
   ]
  },
  {
   "cell_type": "code",
   "execution_count": null,
   "id": "047988ca-f910-4272-8752-b39fc819ed53",
   "metadata": {},
   "outputs": [],
   "source": []
  }
 ],
 "metadata": {
  "kernelspec": {
   "display_name": "battery-charger",
   "language": "python",
   "name": "battery-charger"
  },
  "language_info": {
   "codemirror_mode": {
    "name": "ipython",
    "version": 3
   },
   "file_extension": ".py",
   "mimetype": "text/x-python",
   "name": "python",
   "nbconvert_exporter": "python",
   "pygments_lexer": "ipython3",
   "version": "3.9.5"
  }
 },
 "nbformat": 4,
 "nbformat_minor": 5
}
